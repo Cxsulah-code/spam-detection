{
 "cells": [
  {
   "cell_type": "code",
   "execution_count": 1,
   "id": "414f4f6c",
   "metadata": {},
   "outputs": [],
   "source": [
    "import random\n",
    "import pathlib\n",
    "import pandas as pd\n",
    "\n",
    "BASE_DIR = pathlib.Path().resolve().parent\n",
    "DATASET_DIR = BASE_DIR / \"datasets\"\n",
    "ZIPS_DIR = DATASET_DIR / \"zips\"\n",
    "EXPORTS_DIR = DATASET_DIR / \"exports\"\n",
    "ZIPS_DIR.mkdir(exist_ok=True, parents=True)\n",
    "EXPORTS_DIR.mkdir(exist_ok=True, parents=True)\n",
    "SPAM_DATASET_PATH = EXPORTS_DIR / \"spam-dataset.csv\"\n",
    "\n",
    "SPAM_SMS_ZIPS_PATH = ZIPS_DIR / \"sms-spam.zip\"\n",
    "SPAM_YOUTUBE_ZIPS_PATH = ZIPS_DIR / \"youtube-spam.zip\"\n",
    "\n",
    "METADATA_EXPORT_PATH = EXPORTS_DIR / \"spam-metadata.pkl\"\n",
    "\n",
    "TOKENIZER_EXPORT_PATH = EXPORTS_DIR / \"spam-tokenizer.json\""
   ]
  },
  {
   "cell_type": "code",
   "execution_count": null,
   "id": "ee8f6fe7",
   "metadata": {},
   "outputs": [],
   "source": []
  },
  {
   "cell_type": "code",
   "execution_count": 2,
   "id": "ca7571be",
   "metadata": {},
   "outputs": [
    {
     "data": {
      "text/html": [
       "<div>\n",
       "<style scoped>\n",
       "    .dataframe tbody tr th:only-of-type {\n",
       "        vertical-align: middle;\n",
       "    }\n",
       "\n",
       "    .dataframe tbody tr th {\n",
       "        vertical-align: top;\n",
       "    }\n",
       "\n",
       "    .dataframe thead th {\n",
       "        text-align: right;\n",
       "    }\n",
       "</style>\n",
       "<table border=\"1\" class=\"dataframe\">\n",
       "  <thead>\n",
       "    <tr style=\"text-align: right;\">\n",
       "      <th></th>\n",
       "      <th>label</th>\n",
       "      <th>text</th>\n",
       "      <th>source</th>\n",
       "    </tr>\n",
       "  </thead>\n",
       "  <tbody>\n",
       "    <tr>\n",
       "      <th>12694</th>\n",
       "      <td>ham</td>\n",
       "      <td>This song means so much to me thank you  soooo...</td>\n",
       "      <td>youtube-spam</td>\n",
       "    </tr>\n",
       "    <tr>\n",
       "      <th>12695</th>\n",
       "      <td>ham</td>\n",
       "      <td>&amp;lt;3﻿</td>\n",
       "      <td>youtube-spam</td>\n",
       "    </tr>\n",
       "    <tr>\n",
       "      <th>12696</th>\n",
       "      <td>spam</td>\n",
       "      <td>KATY PERRY, I AM THE \"DÉCIO CABELO\", \"DECIO HA...</td>\n",
       "      <td>youtube-spam</td>\n",
       "    </tr>\n",
       "    <tr>\n",
       "      <th>12697</th>\n",
       "      <td>ham</td>\n",
       "      <td>Honestly speaking except taylor swift and adel...</td>\n",
       "      <td>youtube-spam</td>\n",
       "    </tr>\n",
       "    <tr>\n",
       "      <th>12698</th>\n",
       "      <td>ham</td>\n",
       "      <td>who is going to reach the billion first : katy...</td>\n",
       "      <td>youtube-spam</td>\n",
       "    </tr>\n",
       "  </tbody>\n",
       "</table>\n",
       "</div>"
      ],
      "text/plain": [
       "      label                                               text        source\n",
       "12694   ham  This song means so much to me thank you  soooo...  youtube-spam\n",
       "12695   ham                                             &lt;3﻿  youtube-spam\n",
       "12696  spam  KATY PERRY, I AM THE \"DÉCIO CABELO\", \"DECIO HA...  youtube-spam\n",
       "12697   ham  Honestly speaking except taylor swift and adel...  youtube-spam\n",
       "12698   ham  who is going to reach the billion first : katy...  youtube-spam"
      ]
     },
     "execution_count": 2,
     "metadata": {},
     "output_type": "execute_result"
    }
   ],
   "source": [
    "df = pd.read_csv(SPAM_DATASET_PATH)\n",
    "df.tail()"
   ]
  },
  {
   "cell_type": "code",
   "execution_count": 3,
   "id": "cb803aeb",
   "metadata": {},
   "outputs": [],
   "source": [
    "labels = df['label'].tolist()\n",
    "text = df['text'].tolist()"
   ]
  },
  {
   "cell_type": "code",
   "execution_count": 4,
   "id": "531b324e",
   "metadata": {},
   "outputs": [
    {
     "data": {
      "text/plain": [
       "('ham',\n",
       " 'Subject: txu noms . for 3 / 14 / 01\\r\\n( see attached file : hplno 314 . xls )\\r\\n- hplno 314 . xls')"
      ]
     },
     "execution_count": 4,
     "metadata": {},
     "output_type": "execute_result"
    }
   ],
   "source": [
    "labels[120], text[120]"
   ]
  },
  {
   "cell_type": "code",
   "execution_count": 5,
   "id": "32e6982b",
   "metadata": {},
   "outputs": [
    {
     "data": {
      "text/plain": [
       "{'0': 'ham', '1': 'spam'}"
      ]
     },
     "execution_count": 5,
     "metadata": {},
     "output_type": "execute_result"
    }
   ],
   "source": [
    "label_legend = {'ham': 0, 'spam': 1}\n",
    "label_legend_inverted = {f\"{v}\": k for k,v in label_legend.items()}\n",
    "label_legend_inverted"
   ]
  },
  {
   "cell_type": "code",
   "execution_count": 6,
   "id": "adad0f1d",
   "metadata": {},
   "outputs": [],
   "source": [
    "labels_as_int = [label_legend[x] for x in labels]\n",
    "# label_legend_inverted[str(labels_as_int[120])]"
   ]
  },
  {
   "cell_type": "code",
   "execution_count": 7,
   "id": "beee9b20",
   "metadata": {},
   "outputs": [],
   "source": [
    "random_idx = random.randint(0, len(labels))\n",
    "\n",
    "assert text[random_idx] == df.iloc[random_idx].text\n",
    "\n",
    "assert labels[random_idx] == df.iloc[random_idx].label\n",
    "\n",
    "assert label_legend_inverted[str(labels_as_int[random_idx])] == df.iloc[random_idx].label"
   ]
  },
  {
   "cell_type": "code",
   "execution_count": 8,
   "id": "db561f7e",
   "metadata": {},
   "outputs": [
    {
     "name": "stderr",
     "output_type": "stream",
     "text": [
      "2022-05-12 11:31:40.540490: W tensorflow/stream_executor/platform/default/dso_loader.cc:64] Could not load dynamic library 'libcudart.so.11.0'; dlerror: libcudart.so.11.0: cannot open shared object file: No such file or directory; LD_LIBRARY_PATH: /usr/lib/mesa-diverted/x86_64-linux-gnu:/usr/lib/x86_64-linux-gnu/mesa:/usr/lib/x86_64-linux-gnu/dri:/usr/lib/x86_64-linux-gnu/gallium-pipe\n",
      "2022-05-12 11:31:40.540552: I tensorflow/stream_executor/cuda/cudart_stub.cc:29] Ignore above cudart dlerror if you do not have a GPU set up on your machine.\n"
     ]
    }
   ],
   "source": [
    "from tensorflow.keras.preprocessing.text import Tokenizer"
   ]
  },
  {
   "cell_type": "code",
   "execution_count": 9,
   "id": "e8031c95",
   "metadata": {},
   "outputs": [],
   "source": [
    "MAX_NUM_WORDS = 280"
   ]
  },
  {
   "cell_type": "code",
   "execution_count": 10,
   "id": "ed0b6cd5",
   "metadata": {},
   "outputs": [],
   "source": [
    "tokenizer = Tokenizer(num_words=MAX_NUM_WORDS)\n",
    "tokenizer.fit_on_texts(text)\n",
    "sequences = tokenizer.texts_to_sequences(text)"
   ]
  },
  {
   "cell_type": "code",
   "execution_count": 11,
   "id": "f4edb57c",
   "metadata": {},
   "outputs": [],
   "source": [
    "word_index = tokenizer.word_index"
   ]
  },
  {
   "cell_type": "code",
   "execution_count": 12,
   "id": "fbc7db3a",
   "metadata": {},
   "outputs": [],
   "source": [
    "from tensorflow.keras.preprocessing.sequence import pad_sequences"
   ]
  },
  {
   "cell_type": "code",
   "execution_count": 13,
   "id": "8558d6df",
   "metadata": {},
   "outputs": [],
   "source": [
    "MAX_SEQ_LENGTH = 280"
   ]
  },
  {
   "cell_type": "code",
   "execution_count": 14,
   "id": "b82dbe59",
   "metadata": {},
   "outputs": [],
   "source": [
    "X = pad_sequences(sequences, maxlen=MAX_SEQ_LENGTH)"
   ]
  },
  {
   "cell_type": "code",
   "execution_count": 15,
   "id": "b048b45b",
   "metadata": {},
   "outputs": [],
   "source": [
    "import numpy as np\n",
    "from tensorflow.keras.utils import to_categorical"
   ]
  },
  {
   "cell_type": "code",
   "execution_count": 16,
   "id": "8325f0fd",
   "metadata": {},
   "outputs": [],
   "source": [
    "labels_as_int_array = np.asarray(labels_as_int)"
   ]
  },
  {
   "cell_type": "code",
   "execution_count": 17,
   "id": "a31aca2f",
   "metadata": {},
   "outputs": [],
   "source": [
    "y = to_categorical(labels_as_int_array)"
   ]
  },
  {
   "cell_type": "code",
   "execution_count": 18,
   "id": "423e596c",
   "metadata": {},
   "outputs": [],
   "source": [
    "from sklearn.model_selection import train_test_split"
   ]
  },
  {
   "cell_type": "code",
   "execution_count": 19,
   "id": "7862f00a",
   "metadata": {},
   "outputs": [],
   "source": [
    "X_train, X_test, y_train, y_test = train_test_split(X, y, test_size=0.33, random_state=42)"
   ]
  },
  {
   "cell_type": "code",
   "execution_count": 20,
   "id": "ac675d1b",
   "metadata": {},
   "outputs": [],
   "source": [
    "import pickle"
   ]
  },
  {
   "cell_type": "code",
   "execution_count": 21,
   "id": "be616be8",
   "metadata": {},
   "outputs": [
    {
     "data": {
      "text/plain": [
       "5922675"
      ]
     },
     "execution_count": 21,
     "metadata": {},
     "output_type": "execute_result"
    }
   ],
   "source": [
    "training_data = {\n",
    "    \"X_train\": X_train, \n",
    "    \"X_test\": X_test, \n",
    "    \"y_train\": y_train, \n",
    "    \"y_test\": y_test,\n",
    "    \"max_words\": MAX_NUM_WORDS,\n",
    "    \"max_seq_length\": MAX_SEQ_LENGTH,\n",
    "    \"label_legend\": label_legend,\n",
    "    \"label_legend_inverted\": label_legend_inverted,\n",
    "    \"tokenizer\": tokenizer\n",
    "}\n",
    "\n",
    "tokenizer_json = tokenizer.to_json()\n",
    "TOKENIZER_EXPORT_PATH.write_text(tokenizer_json)"
   ]
  },
  {
   "cell_type": "code",
   "execution_count": 22,
   "id": "0f8b533f",
   "metadata": {},
   "outputs": [],
   "source": [
    "with open(METADATA_EXPORT_PATH, 'wb') as f:\n",
    "    pickle.dump(training_data, f)"
   ]
  }
 ],
 "metadata": {
  "interpreter": {
   "hash": "f7069371ffdcf3e441bf8d7de1d6c894ffae5858602bb8c673b249ec5bb964ec"
  },
  "kernelspec": {
   "display_name": "Python 3 (ipykernel)",
   "language": "python",
   "name": "python3"
  },
  "language_info": {
   "codemirror_mode": {
    "name": "ipython",
    "version": 3
   },
   "file_extension": ".py",
   "mimetype": "text/x-python",
   "name": "python",
   "nbconvert_exporter": "python",
   "pygments_lexer": "ipython3",
   "version": "3.7.3"
  }
 },
 "nbformat": 4,
 "nbformat_minor": 5
}
